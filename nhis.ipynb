{
 "cells": [
  {
   "cell_type": "code",
   "execution_count": 1,
   "metadata": {},
   "outputs": [],
   "source": [
    "import numpy as np\n",
    "import pandas as pd\n",
    "import matplotlib.pyplot as plt"
   ]
  },
  {
   "cell_type": "code",
   "execution_count": 53,
   "metadata": {},
   "outputs": [
    {
     "name": "stderr",
     "output_type": "stream",
     "text": [
      "/home/jeremie/miniconda/envs/nhis/lib/python3.7/site-packages/pyarrow/pandas_compat.py:752: FutureWarning: .labels was deprecated in version 0.24.0. Use .codes instead.\n",
      "  labels, = index.labels\n"
     ]
    }
   ],
   "source": [
    "data = pd.read_feather('data.feather')"
   ]
  },
  {
   "cell_type": "code",
   "execution_count": 54,
   "metadata": {},
   "outputs": [
    {
     "data": {
      "text/plain": [
       "(78132, 112)"
      ]
     },
     "execution_count": 54,
     "metadata": {},
     "output_type": "execute_result"
    }
   ],
   "source": [
    "data.shape"
   ]
  },
  {
   "cell_type": "code",
   "execution_count": 55,
   "metadata": {},
   "outputs": [],
   "source": [
    "data = data.astype('float64')"
   ]
  },
  {
   "cell_type": "code",
   "execution_count": 56,
   "metadata": {},
   "outputs": [],
   "source": [
    "data.drop(columns=['YEAR','SERIAL','NUMPREC','STRATA','PSU','NHISHID','HHWEIGHT','PERNUM',\n",
    "                   'NHISPID','HHX','FMX','PX','PERWEIGHT','SAMPWEIGHT','FWEIGHT','SUPP1WT',\n",
    "                   'ASTATFLG','CSTATFLG','FAMNUMR', # irrelevant for prediction\n",
    "                   'LANY', # categories make no sense\n",
    "                   ], inplace=True)"
   ]
  },
  {
   "cell_type": "code",
   "execution_count": 57,
   "metadata": {},
   "outputs": [],
   "source": [
    "categorical = ['REGION','LIVINGQTR','INTERVWMO','SEX','SEXORIEN','MARSTAT','MARST','MARSTCOHAB',\n",
    "               'PARENTHERE','RELMOM','MOMED','RELPOP','DADED','RACEA','HISPETH','YRSINUS','USBORN',\n",
    "               'CITIZEN','RACENEW','INTERVLANG','EDUC','HEADSTAREV','HEADSTARNOW','EMPSTAT',\n",
    "               'MONTHWRK','USUALFT','EMPSTATWKYR','WORKEV','POORYN','INCFAM07ON','EARNINGS',\n",
    "               'GOTWELF','GOTNEWELF','GOTSSI','GOTSS','GOTSSDIS','GOTNONSSDIS','GOTDIV','GOTINT',\n",
    "               'GOTOTHPEN','GOTWAGE','GOTSEMP','GOTCHSUP','GOTSTAMPFAM','OWNERSHIP','LOWRENT',\n",
    "               'HEALTH','WORKVOLHCSET','WORKVOLHCPAT','NBHDTRUST','PREGNANTNOW','USUALPL','TYPPLSICK',\n",
    "               'HIUNABLEPAY','HINOTCOVE','ANEMIAYR','CHOLHIGHYR','CRONBRONYR','DIARRHEAYR','EARINFYR',\n",
    "               'FHEADYR','HYPERTENYR','LIVERCONYR','RALLERGYR','SALLERGYR','SEIZUREYR','ULCERYR',\n",
    "               'ALCSTAT1','SMOKFREQNOW','CSQTRYYR','MOD10FWK','VIG10FWK','EXERDYR','EXERNOW','DIETDYR',\n",
    "               'DIETNOW','LANY']\n",
    "\n",
    "numerical = ['AGE','FAMSIZE','FAMKIDNO','FAMOLDNO','HOURSWRK','HRSLEEP']\n",
    "\n",
    "missing_map = {'REGION': (8,9),\n",
    "               'LIVINGQTR': (98,),\n",
    "               'INTERVWMO': (98,),\n",
    "               'AGE': (99,),\n",
    "               'SEXORIEN': (0,8),\n",
    "               'MARSTAT': (0,99),\n",
    "               'MARST': (0,99),\n",
    "               'MARSTCOHAB': (9,),\n",
    "               'FAMSIZE': (0,99),\n",
    "               'PARENTHERE': (0,98,99),\n",
    "               'RELMOM': (0,60,97,98,99),\n",
    "               'MOMED': (0,97,98,99),\n",
    "               'RELPOP': (0,60,97,98,99),\n",
    "               'DADED': (0,97,98,99),\n",
    "               'RACEA': (900,970,980,990),\n",
    "               'HISPETH': (90,91,92,93,99),\n",
    "               'YRSINUS': (0,7,8,9),\n",
    "               'USBORN': (96,97,98,99),\n",
    "               'CITIZEN': (7,8,9),\n",
    "               'RACENEW': (97,98,99),\n",
    "               'INTERVLANG': (8,9),\n",
    "               'EDUC': (0,997,998,999),\n",
    "               'HEADSTAREV': (0,7,8,9),\n",
    "               'HEADSTARNOW': (0,7,8,9),\n",
    "               'EMPSTAT': (0,90,97,98,99),\n",
    "               'HOURSWRK': (0,97,98,99),\n",
    "               'MONTHWRK': (13,90,97,98,99),\n",
    "               'USUALFT': (0,7,8,9),\n",
    "               'EMPSTATWKYR': (0,7,8,9),\n",
    "               'WORKEV': (0,7,8,9),\n",
    "               'POORYN': (9,),\n",
    "               'INCFAM07ON': (96,99),\n",
    "               'EARNINGS': (0,97,98,99),\n",
    "               'GOTWELF': (0,70,80,90),\n",
    "               'GOTNEWELF': (0,7,8,9),\n",
    "               'GOTSSI': (0,70,80,90),\n",
    "               'GOTSS': (0,70,80,90),\n",
    "               'GOTSSDIS': (0,97,98,99),\n",
    "               'GOTNONSSDIS': (0,70,80,90),\n",
    "               'GOTDIV': (0,70,80,90),\n",
    "               'GOTINT': (0,70,80,90),\n",
    "               'GOTOTHPEN': (0,7,8,9),\n",
    "               'GOTWAGE': (0,7,8,9),\n",
    "               'GOTSEMP': (0,7,8,9),\n",
    "               'GOTCHSUP': (7,8,9),\n",
    "               'GOTSTAMPFAM': (0,70,80,90),\n",
    "               'OWNERSHIP': (0,97,98,99),\n",
    "               'LOWRENT': (0,7,8,9),\n",
    "               'HEALTH': (0,7,8,9),\n",
    "               'WORKVOLHCSET': (0,7,8,9),\n",
    "               'WORKVOLHCPAT': (0,7,8,9),\n",
    "               'NBHDTRUST': (0,7,8,9),\n",
    "               'PREGNANTNOW': (0,7,8,9),\n",
    "               'USUALPL': (0,7,8,9),\n",
    "               'TYPPLSICK': (0,97,98,99),\n",
    "               'HIUNABLEPAY': (0,7,8,9),\n",
    "               'HINOTCOVE': (0,7,8,9),\n",
    "               'ANEMIAYR': (0,7,8,9),\n",
    "               'CHOLHIGHYR': (0,7,8,9),\n",
    "               'CRONBRONYR': (0,7,8,9),\n",
    "               'DIARRHEAYR': (0,7,8,9),\n",
    "               'EARINFYR': (0,7,8,9),\n",
    "               'FHEADYR': (0,7,8,9),\n",
    "               'HYPERTENYR': (0,7,8,9),\n",
    "               'LIVERCONYR': (0,7,8,9),\n",
    "               'RALLERGYR': (0,7,8,9),\n",
    "               'SALLERGYR': (0,7,8,9),\n",
    "               'SEIZUREYR': (0,7,8,9),\n",
    "               'ULCERYR': (0,7,8,9),\n",
    "               'ALCSTAT1': (0,9),\n",
    "               'SMOKFREQNOW': (0,7,8,9),\n",
    "               'CSQTRYYR': (0,7,8,9),\n",
    "               'MOD10FWK': (0,97,98,99),\n",
    "               'VIG10FWK': (0,97,98,99),\n",
    "               'EXERDYR': (0,7,8,9),\n",
    "               'EXERNOW': (0,7,8,9),\n",
    "               'DIETDYR': (0,7,8,9),\n",
    "               'DIETNOW': (0,7,8,9),\n",
    "               'HRSLEEP': (0,25,97,98,99),\n",
    "               'LANY': (20,22)}"
   ]
  },
  {
   "cell_type": "code",
   "execution_count": 58,
   "metadata": {},
   "outputs": [
    {
     "data": {
      "text/plain": [
       "0        2.0\n",
       "1        0.0\n",
       "2        0.0\n",
       "3        2.0\n",
       "4        0.0\n",
       "5        0.0\n",
       "6        0.0\n",
       "7        0.0\n",
       "8        0.0\n",
       "9        0.0\n",
       "10       0.0\n",
       "11       0.0\n",
       "12       0.0\n",
       "13       0.0\n",
       "14       0.0\n",
       "15       1.0\n",
       "16       0.0\n",
       "17       2.0\n",
       "18       0.0\n",
       "19       0.0\n",
       "20       0.0\n",
       "21       0.0\n",
       "22       0.0\n",
       "23       0.0\n",
       "24       0.0\n",
       "25       0.0\n",
       "26       2.0\n",
       "27       2.0\n",
       "28       0.0\n",
       "29       0.0\n",
       "        ... \n",
       "78102    0.0\n",
       "78103    2.0\n",
       "78104    0.0\n",
       "78105    0.0\n",
       "78106    0.0\n",
       "78107    2.0\n",
       "78108    0.0\n",
       "78109    0.0\n",
       "78110    0.0\n",
       "78111    0.0\n",
       "78112    0.0\n",
       "78113    2.0\n",
       "78114    0.0\n",
       "78115    2.0\n",
       "78116    0.0\n",
       "78117    0.0\n",
       "78118    0.0\n",
       "78119    0.0\n",
       "78120    0.0\n",
       "78121    2.0\n",
       "78122    0.0\n",
       "78123    2.0\n",
       "78124    0.0\n",
       "78125    2.0\n",
       "78126    0.0\n",
       "78127    2.0\n",
       "78128    0.0\n",
       "78129    0.0\n",
       "78130    0.0\n",
       "78131    0.0\n",
       "Name: WORKEV, Length: 78132, dtype: float64"
      ]
     },
     "execution_count": 58,
     "metadata": {},
     "output_type": "execute_result"
    }
   ],
   "source": [
    "data['WORKEV']"
   ]
  },
  {
   "cell_type": "code",
   "execution_count": 59,
   "metadata": {},
   "outputs": [],
   "source": [
    "for feature in categorical:\n",
    "    if feature in missing_map:\n",
    "        for val in missing_map[feature]:\n",
    "            data[feature] = data[feature].apply(lambda x: x if x != val else np.nan)"
   ]
  },
  {
   "cell_type": "code",
   "execution_count": 42,
   "metadata": {},
   "outputs": [],
   "source": [
    "for feature in numerical:\n",
    "    if feature in missing_map:\n",
    "        for val in missing_map[feature]:\n",
    "            data[feature] = data[feature].apply(lambda x: x if x != val else np.nan)"
   ]
  },
  {
   "cell_type": "code",
   "execution_count": 127,
   "metadata": {},
   "outputs": [],
   "source": [
    "X = data[categorical + numerical]\n",
    "\n",
    "all_targets = ['AEFFORT','AFEELINT1MO','AHOPELESS','ANERVOUS','ARESTLESS',\n",
    "           'ASAD','AWORTHLESS','DEPFREQ','DEPRX','DEPFEELEVL']\n",
    "\n",
    "k6 = ['AEFFORT','ASAD','ANERVOUS','ARESTLESS','AHOPELESS','AWORTHLESS']\n",
    "\n",
    "y = data[k6]\n",
    "\n",
    "mask = np.full((data.shape[0]), True, dtype=bool)\n",
    "for f in k6:\n",
    "    for v in (6,7,8,9):\n",
    "        # 6: not applicable (child or not selected)\n",
    "        # 7,8,9: missing\n",
    "        mask = np.logical_and(mask, y[f] != v)\n",
    "\n",
    "y = y[mask].sum(axis=1)\n",
    "X = X[mask]"
   ]
  },
  {
   "cell_type": "code",
   "execution_count": 131,
   "metadata": {},
   "outputs": [
    {
     "data": {
      "text/plain": [
       "11"
      ]
     },
     "execution_count": 131,
     "metadata": {},
     "output_type": "execute_result"
    }
   ],
   "source": [
    "# drop full missing values features\n",
    "full_missing = (X.count() == 0).sum()"
   ]
  },
  {
   "cell_type": "code",
   "execution_count": null,
   "metadata": {},
   "outputs": [],
   "source": []
  }
 ],
 "metadata": {
  "kernelspec": {
   "display_name": "Python 3",
   "language": "python",
   "name": "python3"
  },
  "language_info": {
   "codemirror_mode": {
    "name": "ipython",
    "version": 3
   },
   "file_extension": ".py",
   "mimetype": "text/x-python",
   "name": "python",
   "nbconvert_exporter": "python",
   "pygments_lexer": "ipython3",
   "version": "3.7.3"
  }
 },
 "nbformat": 4,
 "nbformat_minor": 2
}
