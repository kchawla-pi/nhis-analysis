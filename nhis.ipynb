{
 "cells": [
  {
   "cell_type": "code",
   "execution_count": 30,
   "metadata": {},
   "outputs": [],
   "source": [
    "import numpy as np\n",
    "import pandas as pd\n",
    "import matplotlib.pyplot as plt\n",
    "%matplotlib inline"
   ]
  },
  {
   "cell_type": "code",
   "execution_count": 5,
   "metadata": {},
   "outputs": [],
   "source": [
    "from sklearn.model_selection import train_test_split\n",
    "from sklearn.ensemble import RandomForestClassifier\n",
    "from sklearn.model_selection import cross_val_score\n",
    "from sklearn.impute import SimpleImputer\n",
    "from sklearn.preprocessing import OneHotEncoder, StandardScaler\n",
    "from sklearn.pipeline import Pipeline\n",
    "from sklearn.compose import ColumnTransformer\n",
    "from sklearn.ensemble import RandomForestClassifier\n",
    "from sklearn.linear_model import LogisticRegression\n",
    "from sklearn.model_inspection import permutation_importance"
   ]
  },
  {
   "cell_type": "code",
   "execution_count": 6,
   "metadata": {},
   "outputs": [
    {
     "name": "stderr",
     "output_type": "stream",
     "text": [
      "/home/jeremie/miniconda/envs/nhis/lib/python3.7/site-packages/pyarrow/pandas_compat.py:752: FutureWarning: .labels was deprecated in version 0.24.0. Use .codes instead.\n",
      "  labels, = index.labels\n"
     ]
    },
    {
     "data": {
      "text/plain": [
       "(78132, 112)"
      ]
     },
     "execution_count": 6,
     "metadata": {},
     "output_type": "execute_result"
    }
   ],
   "source": [
    "data = pd.read_feather('data.feather')\n",
    "data = data.astype('float64')\n",
    "data.shape"
   ]
  },
  {
   "cell_type": "code",
   "execution_count": 7,
   "metadata": {},
   "outputs": [],
   "source": [
    "# drop irrelevent columns\n",
    "data.drop(columns=['YEAR','SERIAL','NUMPREC','STRATA','PSU','NHISHID','HHWEIGHT','PERNUM',\n",
    "                   'NHISPID','HHX','FMX','PX','PERWEIGHT','SAMPWEIGHT','FWEIGHT','SUPP1WT',\n",
    "                   'ASTATFLG','CSTATFLG','FAMNUMR', # irrelevant for prediction\n",
    "                   'LANY', # categories make no sense\n",
    "                   ], inplace=True)"
   ]
  },
  {
   "cell_type": "code",
   "execution_count": 8,
   "metadata": {},
   "outputs": [],
   "source": [
    "# categorical & numerical features\n",
    "categorical = ['REGION','LIVINGQTR','INTERVWMO','SEX','SEXORIEN','MARSTAT','MARST','MARSTCOHAB',\n",
    "               'PARENTHERE','RELMOM','MOMED','RELPOP','DADED','RACEA','HISPETH','YRSINUS','USBORN',\n",
    "               'CITIZEN','RACENEW','INTERVLANG','EDUC','HEADSTAREV','HEADSTARNOW','EMPSTAT',\n",
    "               'MONTHWRK','USUALFT','EMPSTATWKYR','WORKEV','POORYN','INCFAM07ON','EARNINGS',\n",
    "               'GOTWELF','GOTNEWELF','GOTSSI','GOTSS','GOTSSDIS','GOTNONSSDIS','GOTDIV','GOTINT',\n",
    "               'GOTOTHPEN','GOTWAGE','GOTSEMP','GOTCHSUP','GOTSTAMPFAM','OWNERSHIP','LOWRENT',\n",
    "               'HEALTH','WORKVOLHCSET','WORKVOLHCPAT','NBHDTRUST','PREGNANTNOW','USUALPL','TYPPLSICK',\n",
    "               'HIUNABLEPAY','HINOTCOVE','ANEMIAYR','CHOLHIGHYR','CRONBRONYR','DIARRHEAYR','EARINFYR',\n",
    "               'FHEADYR','HYPERTENYR','LIVERCONYR','RALLERGYR','SALLERGYR','SEIZUREYR','ULCERYR',\n",
    "               'ALCSTAT1','SMOKFREQNOW','CSQTRYYR','MOD10FWK','VIG10FWK','EXERDYR','EXERNOW','DIETDYR',\n",
    "               'DIETNOW']\n",
    "\n",
    "numerical = ['AGE','FAMSIZE','FAMKIDNO','FAMOLDNO','HOURSWRK','HRSLEEP']\n",
    "\n",
    "missing_map = {'REGION': (8,9),\n",
    "               'LIVINGQTR': (98,),\n",
    "               'INTERVWMO': (98,),\n",
    "               'AGE': (99,),\n",
    "               'SEXORIEN': (0,8),\n",
    "               'MARSTAT': (0,99),\n",
    "               'MARST': (0,99),\n",
    "               'MARSTCOHAB': (9,),\n",
    "               'FAMSIZE': (0,99),\n",
    "               'PARENTHERE': (0,98,99),\n",
    "               'RELMOM': (0,60,97,98,99),\n",
    "               'MOMED': (0,97,98,99),\n",
    "               'RELPOP': (0,60,97,98,99),\n",
    "               'DADED': (0,97,98,99),\n",
    "               'RACEA': (900,970,980,990),\n",
    "               'HISPETH': (90,91,92,93,99),\n",
    "               'YRSINUS': (0,7,8,9),\n",
    "               'USBORN': (96,97,98,99),\n",
    "               'CITIZEN': (7,8,9),\n",
    "               'RACENEW': (97,98,99),\n",
    "               'INTERVLANG': (8,9),\n",
    "               'EDUC': (0,997,998,999),\n",
    "               'HEADSTAREV': (0,7,8,9),\n",
    "               'HEADSTARNOW': (0,7,8,9),\n",
    "               'EMPSTAT': (0,90,97,98,99),\n",
    "               'HOURSWRK': (0,97,98,99),\n",
    "               'MONTHWRK': (13,90,97,98,99),\n",
    "               'USUALFT': (0,7,8,9),\n",
    "               'EMPSTATWKYR': (0,7,8,9),\n",
    "               'WORKEV': (0,7,8,9),\n",
    "               'POORYN': (9,),\n",
    "               'INCFAM07ON': (96,99),\n",
    "               'EARNINGS': (0,97,98,99),\n",
    "               'GOTWELF': (0,70,80,90),\n",
    "               'GOTNEWELF': (0,7,8,9),\n",
    "               'GOTSSI': (0,70,80,90),\n",
    "               'GOTSS': (0,70,80,90),\n",
    "               'GOTSSDIS': (0,97,98,99),\n",
    "               'GOTNONSSDIS': (0,70,80,90),\n",
    "               'GOTDIV': (0,70,80,90),\n",
    "               'GOTINT': (0,70,80,90),\n",
    "               'GOTOTHPEN': (0,7,8,9),\n",
    "               'GOTWAGE': (0,7,8,9),\n",
    "               'GOTSEMP': (0,7,8,9),\n",
    "               'GOTCHSUP': (7,8,9),\n",
    "               'GOTSTAMPFAM': (0,70,80,90),\n",
    "               'OWNERSHIP': (0,97,98,99),\n",
    "               'LOWRENT': (0,7,8,9),\n",
    "               'HEALTH': (0,7,8,9),\n",
    "               'WORKVOLHCSET': (0,7,8,9),\n",
    "               'WORKVOLHCPAT': (0,7,8,9),\n",
    "               'NBHDTRUST': (0,7,8,9),\n",
    "               'PREGNANTNOW': (0,7,8,9),\n",
    "               'USUALPL': (0,7,8,9),\n",
    "               'TYPPLSICK': (0,97,98,99),\n",
    "               'HIUNABLEPAY': (0,7,8,9),\n",
    "               'HINOTCOVE': (0,7,8,9),\n",
    "               'ANEMIAYR': (0,7,8,9),\n",
    "               'CHOLHIGHYR': (0,7,8,9),\n",
    "               'CRONBRONYR': (0,7,8,9),\n",
    "               'DIARRHEAYR': (0,7,8,9),\n",
    "               'EARINFYR': (0,7,8,9),\n",
    "               'FHEADYR': (0,7,8,9),\n",
    "               'HYPERTENYR': (0,7,8,9),\n",
    "               'LIVERCONYR': (0,7,8,9),\n",
    "               'RALLERGYR': (0,7,8,9),\n",
    "               'SALLERGYR': (0,7,8,9),\n",
    "               'SEIZUREYR': (0,7,8,9),\n",
    "               'ULCERYR': (0,7,8,9),\n",
    "               'ALCSTAT1': (0,9),\n",
    "               'SMOKFREQNOW': (0,7,8,9),\n",
    "               'CSQTRYYR': (0,7,8,9),\n",
    "               'MOD10FWK': (0,97,98,99),\n",
    "               'VIG10FWK': (0,97,98,99),\n",
    "               'EXERDYR': (0,7,8,9),\n",
    "               'EXERNOW': (0,7,8,9),\n",
    "               'DIETDYR': (0,7,8,9),\n",
    "               'DIETNOW': (0,7,8,9),\n",
    "               'HRSLEEP': (0,25,97,98,99)}\n",
    "\n",
    "all_features = categorical + numerical"
   ]
  },
  {
   "cell_type": "code",
   "execution_count": 9,
   "metadata": {},
   "outputs": [],
   "source": [
    "for feature in numerical:\n",
    "    if feature in missing_map:\n",
    "        for v in missing_map[feature]:\n",
    "            data[feature] = data[feature].apply(lambda x: np.nan if x==v else x)"
   ]
  },
  {
   "cell_type": "code",
   "execution_count": 10,
   "metadata": {},
   "outputs": [],
   "source": [
    "# X\n",
    "X = data[all_features]\n",
    "\n",
    "# y\n",
    "k6 = ['AEFFORT','ASAD','ANERVOUS','ARESTLESS','AHOPELESS','AWORTHLESS']\n",
    "y = data[k6].sum(axis=1)  # K6 target [0..24]\n",
    "ybin = (y != 0).astype(int)  # binary target\n",
    "\n",
    "# keep only in universe samples\n",
    "mask = np.full((data.shape[0]), True, dtype=bool)\n",
    "for f in k6:\n",
    "    for v in (6,7,8,9):\n",
    "        # 6: not applicable (child or not selected)\n",
    "        # 7,8,9: missing\n",
    "        mask = np.logical_and(mask, data[k6][f] != v)\n",
    "\n",
    "X = X[mask]\n",
    "y = y[mask]\n",
    "ybin = ybin[mask]"
   ]
  },
  {
   "cell_type": "code",
   "execution_count": 11,
   "metadata": {},
   "outputs": [
    {
     "data": {
      "text/plain": [
       "(25767, 82)"
      ]
     },
     "execution_count": 11,
     "metadata": {},
     "output_type": "execute_result"
    }
   ],
   "source": [
    "X.shape"
   ]
  },
  {
   "cell_type": "code",
   "execution_count": 12,
   "metadata": {},
   "outputs": [
    {
     "data": {
      "text/plain": [
       "<matplotlib.axes._subplots.AxesSubplot at 0x7f5f836569b0>"
      ]
     },
     "execution_count": 12,
     "metadata": {},
     "output_type": "execute_result"
    },
    {
     "data": {
      "image/png": "[encoded data removed]",
      "text/plain": [
       "<Figure size 432x288 with 1 Axes>"
      ]
     },
     "metadata": {
      "needs_background": "light"
     },
     "output_type": "display_data"
    }
   ],
   "source": [
    "y.hist(bins=24)"
   ]
  },
  {
   "cell_type": "code",
   "execution_count": 13,
   "metadata": {},
   "outputs": [
    {
     "data": {
      "text/plain": [
       "1    14848\n",
       "0    10919\n",
       "dtype: int64"
      ]
     },
     "execution_count": 13,
     "metadata": {},
     "output_type": "execute_result"
    }
   ],
   "source": [
    "ybin.value_counts()"
   ]
  },
  {
   "cell_type": "code",
   "execution_count": 14,
   "metadata": {},
   "outputs": [],
   "source": [
    "# split train test\n",
    "X_train, X_test, y_train, y_test = train_test_split(X, y, test_size=0.1, stratify=y, random_state=0)\n",
    "X_train_b, X_test_b, y_train_b, y_test_b = train_test_split(X, ybin, test_size=0.1, stratify=y, random_state=0)"
   ]
  },
  {
   "cell_type": "code",
   "execution_count": 39,
   "metadata": {},
   "outputs": [
    {
     "data": {
      "text/plain": [
       "Pipeline(memory=None,\n",
       "         steps=[('prepro',\n",
       "                 ColumnTransformer(n_jobs=None, remainder='drop',\n",
       "                                   sparse_threshold=0.3,\n",
       "                                   transformer_weights=None,\n",
       "                                   transformers=[('categ',\n",
       "                                                  Pipeline...                        min_samples_leaf=1, min_samples_split=2,\n",
       "                                        min_weight_fraction_leaf=0.0,\n",
       "                                        n_estimators=100, n_jobs=1,\n",
       "                                        oob_score=False, random_state=None,\n",
       "                                        verbose=0, warm_start=False))])"
      ]
     },
     "execution_count": 39,
     "metadata": {},
     "output_type": "execute_result"
    }
   ],
   "source": [
    "categ_prepro = Pipeline(steps=[\n",
    "    ('imputer', SimpleImputer(strategy='constant', fill_value=-1))])\n",
    "    #('onehot', OneHotEncoder(categories='auto', handle_unknown='ignore'))])\n",
    "\n",
    "num_prepro = Pipeline(steps=[\n",
    "    ('imputer', SimpleImputer()),\n",
    "    ('scaler', StandardScaler())])\n",
    "\n",
    "ct = ColumnTransformer([\n",
    "    ('categ', categ_prepro, categorical),\n",
    "    ('num', num_prepro, numerical)])\n",
    "\n",
    "estimator = RandomForestClassifier(n_estimators=100, max_depth=10, n_jobs=1)\n",
    "\n",
    "model = Pipeline(steps=[\n",
    "    ('prepro', ct),\n",
    "    ('train', estimator)])\n",
    "\n",
    "#scoring = 'neg_mean_squared_error'\n",
    "scoring = 'accuracy'\n",
    "\n",
    "cross_val_score(model, X_train_b, y_train_b, scoring=scoring, cv=5, error_score='raise')\n",
    "\n",
    "model.fit(X_train_b, y_train_b)"
   ]
  },
  {
   "cell_type": "code",
   "execution_count": null,
   "metadata": {},
   "outputs": [],
   "source": [
    "pi_test = permutation_importance(model, X_test_b, y_test_b, scoring='accuracy', n_rounds=30)\n",
    "pim_test = pi_test.mean(axis=-1)\n",
    "\n",
    "sorted_idx = pim_test.argsort()[-15:]\n",
    "\n",
    "plt.boxplot(pi_test[sorted_idx].T,\n",
    "           vert=False, labels=X_test.columns[sorted_idx])"
   ]
  },
  {
   "cell_type": "code",
   "execution_count": null,
   "metadata": {},
   "outputs": [],
   "source": [
    "sorted_idx = pim.argsort()[:15]\n",
    "\n",
    "plt.boxplot(pi_test[sorted_idx].T,\n",
    "           vert=False, labels=X_test.columns[sorted_idx])"
   ]
  },
  {
   "cell_type": "code",
   "execution_count": null,
   "metadata": {},
   "outputs": [],
   "source": [
    "pi_train = permutation_importance(model, X_train_b, y_train_b, scoring='accuracy', n_rounds=30)\n",
    "pim_train = pi_train.mean(axis=-1)\n",
    "\n",
    "sorted_idx = pim_train.argsort()[-15:]\n",
    "\n",
    "plt.boxplot(pi_train[sorted_idx].T,\n",
    "           vert=False, labels=X_train.columns[sorted_idx])"
   ]
  },
  {
   "cell_type": "code",
   "execution_count": null,
   "metadata": {},
   "outputs": [],
   "source": [
    "sorted_idx = pim.argsort()[:15]\n",
    "\n",
    "plt.boxplot(pi_train[sorted_idx].T,\n",
    "           vert=False, labels=X_train.columns[sorted_idx])"
   ]
  }
 ],
 "metadata": {
  "kernelspec": {
   "display_name": "Python 3",
   "language": "python",
   "name": "python3"
  },
  "language_info": {
   "codemirror_mode": {
    "name": "ipython",
    "version": 3
   },
   "file_extension": ".py",
   "mimetype": "text/x-python",
   "name": "python",
   "nbconvert_exporter": "python",
   "pygments_lexer": "ipython3",
   "version": "3.7.3"
  }
 },
 "nbformat": 4,
 "nbformat_minor": 2
}
